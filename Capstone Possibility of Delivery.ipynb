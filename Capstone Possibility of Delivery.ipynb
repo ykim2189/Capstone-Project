{
 "cells": [
  {
   "cell_type": "code",
   "execution_count": 158,
   "metadata": {},
   "outputs": [
    {
     "name": "stdout",
     "output_type": "stream",
     "text": [
      "Folium installed\n",
      "Libraries imported.\n"
     ]
    }
   ],
   "source": [
    "import requests # library to handle requests\n",
    "import pandas as pd # library for data analsysis\n",
    "import numpy as np # library to handle data in a vectorized manner\n",
    "import random # library for random number generation\n",
    "\n",
    "#!conda install -c conda-forge geopy --yes \n",
    "from geopy.geocoders import Nominatim # module to convert an address into latitude and longitude values\n",
    "\n",
    "# libraries for displaying images\n",
    "from IPython.display import Image \n",
    "from IPython.core.display import HTML \n",
    "    \n",
    "# tranforming json file into a pandas dataframe library\n",
    "from pandas.io.json import json_normalize\n",
    "\n",
    "#!conda install -c conda-forge folium=0.5.0 --yes\n",
    "import folium # plotting library\n",
    "\n",
    "print('Folium installed')\n",
    "print('Libraries imported.')"
   ]
  },
  {
   "cell_type": "markdown",
   "metadata": {},
   "source": [
    "## my credentials"
   ]
  },
  {
   "cell_type": "code",
   "execution_count": 249,
   "metadata": {},
   "outputs": [
    {
     "name": "stdout",
     "output_type": "stream",
     "text": [
      "Your credentails:\n",
      "CLIENT_ID: VEOZPGP0Z3T2HVH3HE51A03YJM5BGH4HCWBMT4CSSYMHAVEY\n",
      "CLIENT_SECRET:DZ1F3ILNQU15JLPWSNRMED01MS31GSAEOIPTSFIOJDBNOC3O\n"
     ]
    }
   ],
   "source": [
    "CLIENT_ID = 'VEOZPGP0Z3T2HVH3HE51A03YJM5BGH4HCWBMT4CSSYMHAVEY' # your Foursquare ID\n",
    "CLIENT_SECRET = 'DZ1F3ILNQU15JLPWSNRMED01MS31GSAEOIPTSFIOJDBNOC3O' # your Foursquare Secret\n",
    "VERSION = '20200830'\n",
    "LIMIT = 30\n",
    "print('Your credentails:')\n",
    "print('CLIENT_ID: ' + CLIENT_ID)\n",
    "print('CLIENT_SECRET:' + CLIENT_SECRET)"
   ]
  },
  {
   "cell_type": "markdown",
   "metadata": {},
   "source": [
    "# get location"
   ]
  },
  {
   "cell_type": "code",
   "execution_count": 257,
   "metadata": {},
   "outputs": [
    {
     "name": "stdout",
     "output_type": "stream",
     "text": [
      "33.7722178 -84.3944354\n"
     ]
    }
   ],
   "source": [
    "address = '225 North Avenue NW, Atlanta, GA '\n",
    "\n",
    "geolocator = Nominatim(user_agent=\"foursquare_agent\")\n",
    "location = geolocator.geocode(address)\n",
    "latitude = location.latitude\n",
    "longitude = location.longitude\n",
    "print(latitude, longitude)"
   ]
  },
  {
   "cell_type": "code",
   "execution_count": 355,
   "metadata": {},
   "outputs": [],
   "source": [
    "radius = 1000\n",
    "LIMIT = 100"
   ]
  },
  {
   "cell_type": "markdown",
   "metadata": {},
   "source": [
    "# explore near location"
   ]
  },
  {
   "cell_type": "code",
   "execution_count": 356,
   "metadata": {},
   "outputs": [
    {
     "data": {
      "text/plain": [
       "'https://api.foursquare.com/v2/venues/explore?client_id=VEOZPGP0Z3T2HVH3HE51A03YJM5BGH4HCWBMT4CSSYMHAVEY&client_secret=DZ1F3ILNQU15JLPWSNRMED01MS31GSAEOIPTSFIOJDBNOC3O&ll=33.7722178,-84.3944354&v=20200830&radius=1000&limit=100'"
      ]
     },
     "execution_count": 356,
     "metadata": {},
     "output_type": "execute_result"
    }
   ],
   "source": [
    "url = 'https://api.foursquare.com/v2/venues/explore?client_id={}&client_secret={}&ll={},{}&v={}&radius={}&limit={}'.format(CLIENT_ID, CLIENT_SECRET, latitude, longitude, VERSION, radius, LIMIT)\n",
    "url"
   ]
  },
  {
   "cell_type": "code",
   "execution_count": 358,
   "metadata": {},
   "outputs": [
    {
     "data": {
      "text/plain": [
       "'There are 77 venues arround Georgia Tech.'"
      ]
     },
     "execution_count": 358,
     "metadata": {},
     "output_type": "execute_result"
    }
   ],
   "source": [
    "import requests\n",
    "results = requests.get(url).json()\n",
    "'There are {} venues arround Georgia Tech.'.format(len(results['response']['groups'][0]['items']))"
   ]
  },
  {
   "cell_type": "code",
   "execution_count": 360,
   "metadata": {},
   "outputs": [],
   "source": [
    "items = results['response']['groups'][0]['items']"
   ]
  },
  {
   "cell_type": "code",
   "execution_count": 367,
   "metadata": {},
   "outputs": [
    {
     "name": "stderr",
     "output_type": "stream",
     "text": [
      "<ipython-input-367-94222343b825>:1: FutureWarning: pandas.io.json.json_normalize is deprecated, use pandas.json_normalize instead\n",
      "  dataframe = json_normalize(items) # flatten JSON\n"
     ]
    },
    {
     "data": {
      "text/html": [
       "<div>\n",
       "<style scoped>\n",
       "    .dataframe tbody tr th:only-of-type {\n",
       "        vertical-align: middle;\n",
       "    }\n",
       "\n",
       "    .dataframe tbody tr th {\n",
       "        vertical-align: top;\n",
       "    }\n",
       "\n",
       "    .dataframe thead th {\n",
       "        text-align: right;\n",
       "    }\n",
       "</style>\n",
       "<table border=\"1\" class=\"dataframe\">\n",
       "  <thead>\n",
       "    <tr style=\"text-align: right;\">\n",
       "      <th></th>\n",
       "      <th>name</th>\n",
       "      <th>categories</th>\n",
       "      <th>id</th>\n",
       "      <th>url</th>\n",
       "      <th>name</th>\n",
       "      <th>prefix</th>\n",
       "      <th>sizes</th>\n",
       "      <th>name</th>\n",
       "      <th>id</th>\n",
       "    </tr>\n",
       "  </thead>\n",
       "  <tbody>\n",
       "    <tr>\n",
       "      <th>4</th>\n",
       "      <td>Highland Bakery</td>\n",
       "      <td>Bakery</td>\n",
       "      <td>1490525</td>\n",
       "      <td>https://www.grubhub.com/restaurant/highland-ba...</td>\n",
       "      <td>grubhub</td>\n",
       "      <td>https://fastly.4sqi.net/img/general/cap/</td>\n",
       "      <td>[40, 50]</td>\n",
       "      <td>/delivery_provider_grubhub_20180129.png</td>\n",
       "      <td>512e4185e0e26a825ba3c825</td>\n",
       "    </tr>\n",
       "    <tr>\n",
       "      <th>13</th>\n",
       "      <td>Atwoods Pizza Cafe</td>\n",
       "      <td>Pizza Place</td>\n",
       "      <td>2213140</td>\n",
       "      <td>https://www.grubhub.com/restaurant/atwoods-piz...</td>\n",
       "      <td>grubhub</td>\n",
       "      <td>https://fastly.4sqi.net/img/general/cap/</td>\n",
       "      <td>[40, 50]</td>\n",
       "      <td>/delivery_provider_grubhub_20180129.png</td>\n",
       "      <td>57156db6498e844a5b3b8837</td>\n",
       "    </tr>\n",
       "    <tr>\n",
       "      <th>16</th>\n",
       "      <td>Momonoki</td>\n",
       "      <td>Japanese Restaurant</td>\n",
       "      <td>975665</td>\n",
       "      <td>https://www.grubhub.com/restaurant/momonoki-95...</td>\n",
       "      <td>grubhub</td>\n",
       "      <td>https://fastly.4sqi.net/img/general/cap/</td>\n",
       "      <td>[40, 50]</td>\n",
       "      <td>/delivery_provider_grubhub_20180129.png</td>\n",
       "      <td>5b27d937b3c961002c2af37c</td>\n",
       "    </tr>\n",
       "    <tr>\n",
       "      <th>26</th>\n",
       "      <td>Negril Village ATL</td>\n",
       "      <td>Caribbean Restaurant</td>\n",
       "      <td>1446896</td>\n",
       "      <td>https://www.grubhub.com/restaurant/negril-vill...</td>\n",
       "      <td>grubhub</td>\n",
       "      <td>https://fastly.4sqi.net/img/general/cap/</td>\n",
       "      <td>[40, 50]</td>\n",
       "      <td>/delivery_provider_grubhub_20180129.png</td>\n",
       "      <td>52a0d3d411d2bcc3ecda9aa6</td>\n",
       "    </tr>\n",
       "    <tr>\n",
       "      <th>42</th>\n",
       "      <td>Land Of A Thousand Hills Coffee</td>\n",
       "      <td>Coffee Shop</td>\n",
       "      <td>1760197</td>\n",
       "      <td>https://www.grubhub.com/restaurant/land-of-a-t...</td>\n",
       "      <td>grubhub</td>\n",
       "      <td>https://fastly.4sqi.net/img/general/cap/</td>\n",
       "      <td>[40, 50]</td>\n",
       "      <td>/delivery_provider_grubhub_20180129.png</td>\n",
       "      <td>592851120ff4f9137e7da9ec</td>\n",
       "    </tr>\n",
       "    <tr>\n",
       "      <th>43</th>\n",
       "      <td>Baraonda Cafe Italiano</td>\n",
       "      <td>Italian Restaurant</td>\n",
       "      <td>1490828</td>\n",
       "      <td>https://www.grubhub.com/restaurant/baraonda-71...</td>\n",
       "      <td>grubhub</td>\n",
       "      <td>https://fastly.4sqi.net/img/general/cap/</td>\n",
       "      <td>[40, 50]</td>\n",
       "      <td>/delivery_provider_grubhub_20180129.png</td>\n",
       "      <td>49e3c071f964a520c6621fe3</td>\n",
       "    </tr>\n",
       "    <tr>\n",
       "      <th>50</th>\n",
       "      <td>Tropical Smoothie Cafe</td>\n",
       "      <td>Smoothie Shop</td>\n",
       "      <td>1170064</td>\n",
       "      <td>https://www.grubhub.com/restaurant/tropical-sm...</td>\n",
       "      <td>grubhub</td>\n",
       "      <td>https://fastly.4sqi.net/img/general/cap/</td>\n",
       "      <td>[40, 50]</td>\n",
       "      <td>/delivery_provider_grubhub_20180129.png</td>\n",
       "      <td>594d406231fd145b63bdc58b</td>\n",
       "    </tr>\n",
       "    <tr>\n",
       "      <th>51</th>\n",
       "      <td>The Halal Guys</td>\n",
       "      <td>North Indian Restaurant</td>\n",
       "      <td>1176020</td>\n",
       "      <td>https://www.grubhub.com/restaurant/the-halal-g...</td>\n",
       "      <td>grubhub</td>\n",
       "      <td>https://fastly.4sqi.net/img/general/cap/</td>\n",
       "      <td>[40, 50]</td>\n",
       "      <td>/delivery_provider_grubhub_20180129.png</td>\n",
       "      <td>5bb30c5c67f62b00392d0a59</td>\n",
       "    </tr>\n",
       "    <tr>\n",
       "      <th>55</th>\n",
       "      <td>Satto Thai &amp; Sushi Bar</td>\n",
       "      <td>Thai Restaurant</td>\n",
       "      <td>277551</td>\n",
       "      <td>https://www.grubhub.com/restaurant/satto-thai-...</td>\n",
       "      <td>grubhub</td>\n",
       "      <td>https://fastly.4sqi.net/img/general/cap/</td>\n",
       "      <td>[40, 50]</td>\n",
       "      <td>/delivery_provider_grubhub_20180129.png</td>\n",
       "      <td>510aad23e4b0bfb25831b9dc</td>\n",
       "    </tr>\n",
       "    <tr>\n",
       "      <th>58</th>\n",
       "      <td>Wingnuts</td>\n",
       "      <td>American Restaurant</td>\n",
       "      <td>259023</td>\n",
       "      <td>https://www.grubhub.com/restaurant/wingnuts-76...</td>\n",
       "      <td>grubhub</td>\n",
       "      <td>https://fastly.4sqi.net/img/general/cap/</td>\n",
       "      <td>[40, 50]</td>\n",
       "      <td>/delivery_provider_grubhub_20180129.png</td>\n",
       "      <td>4bf0b8e8f45ec928072f943c</td>\n",
       "    </tr>\n",
       "    <tr>\n",
       "      <th>65</th>\n",
       "      <td>Livingston Restaurant+Bar</td>\n",
       "      <td>New American Restaurant</td>\n",
       "      <td>1331457</td>\n",
       "      <td>https://www.grubhub.com/restaurant/livingston-...</td>\n",
       "      <td>grubhub</td>\n",
       "      <td>https://fastly.4sqi.net/img/general/cap/</td>\n",
       "      <td>[40, 50]</td>\n",
       "      <td>/delivery_provider_grubhub_20180129.png</td>\n",
       "      <td>4a9b0603f964a5200c3420e3</td>\n",
       "    </tr>\n",
       "    <tr>\n",
       "      <th>73</th>\n",
       "      <td>Krab Queenz</td>\n",
       "      <td>Seafood Restaurant</td>\n",
       "      <td>1777731</td>\n",
       "      <td>https://www.grubhub.com/restaurant/krab-queenz...</td>\n",
       "      <td>grubhub</td>\n",
       "      <td>https://fastly.4sqi.net/img/general/cap/</td>\n",
       "      <td>[40, 50]</td>\n",
       "      <td>/delivery_provider_grubhub_20180129.png</td>\n",
       "      <td>5d59e62dab9ab00008480a81</td>\n",
       "    </tr>\n",
       "  </tbody>\n",
       "</table>\n",
       "</div>"
      ],
      "text/plain": [
       "                               name               categories       id  \\\n",
       "4                   Highland Bakery                   Bakery  1490525   \n",
       "13               Atwoods Pizza Cafe              Pizza Place  2213140   \n",
       "16                         Momonoki      Japanese Restaurant   975665   \n",
       "26               Negril Village ATL     Caribbean Restaurant  1446896   \n",
       "42  Land Of A Thousand Hills Coffee              Coffee Shop  1760197   \n",
       "43           Baraonda Cafe Italiano       Italian Restaurant  1490828   \n",
       "50           Tropical Smoothie Cafe            Smoothie Shop  1170064   \n",
       "51                   The Halal Guys  North Indian Restaurant  1176020   \n",
       "55           Satto Thai & Sushi Bar          Thai Restaurant   277551   \n",
       "58                         Wingnuts      American Restaurant   259023   \n",
       "65        Livingston Restaurant+Bar  New American Restaurant  1331457   \n",
       "73                      Krab Queenz       Seafood Restaurant  1777731   \n",
       "\n",
       "                                                  url     name  \\\n",
       "4   https://www.grubhub.com/restaurant/highland-ba...  grubhub   \n",
       "13  https://www.grubhub.com/restaurant/atwoods-piz...  grubhub   \n",
       "16  https://www.grubhub.com/restaurant/momonoki-95...  grubhub   \n",
       "26  https://www.grubhub.com/restaurant/negril-vill...  grubhub   \n",
       "42  https://www.grubhub.com/restaurant/land-of-a-t...  grubhub   \n",
       "43  https://www.grubhub.com/restaurant/baraonda-71...  grubhub   \n",
       "50  https://www.grubhub.com/restaurant/tropical-sm...  grubhub   \n",
       "51  https://www.grubhub.com/restaurant/the-halal-g...  grubhub   \n",
       "55  https://www.grubhub.com/restaurant/satto-thai-...  grubhub   \n",
       "58  https://www.grubhub.com/restaurant/wingnuts-76...  grubhub   \n",
       "65  https://www.grubhub.com/restaurant/livingston-...  grubhub   \n",
       "73  https://www.grubhub.com/restaurant/krab-queenz...  grubhub   \n",
       "\n",
       "                                      prefix     sizes  \\\n",
       "4   https://fastly.4sqi.net/img/general/cap/  [40, 50]   \n",
       "13  https://fastly.4sqi.net/img/general/cap/  [40, 50]   \n",
       "16  https://fastly.4sqi.net/img/general/cap/  [40, 50]   \n",
       "26  https://fastly.4sqi.net/img/general/cap/  [40, 50]   \n",
       "42  https://fastly.4sqi.net/img/general/cap/  [40, 50]   \n",
       "43  https://fastly.4sqi.net/img/general/cap/  [40, 50]   \n",
       "50  https://fastly.4sqi.net/img/general/cap/  [40, 50]   \n",
       "51  https://fastly.4sqi.net/img/general/cap/  [40, 50]   \n",
       "55  https://fastly.4sqi.net/img/general/cap/  [40, 50]   \n",
       "58  https://fastly.4sqi.net/img/general/cap/  [40, 50]   \n",
       "65  https://fastly.4sqi.net/img/general/cap/  [40, 50]   \n",
       "73  https://fastly.4sqi.net/img/general/cap/  [40, 50]   \n",
       "\n",
       "                                       name                        id  \n",
       "4   /delivery_provider_grubhub_20180129.png  512e4185e0e26a825ba3c825  \n",
       "13  /delivery_provider_grubhub_20180129.png  57156db6498e844a5b3b8837  \n",
       "16  /delivery_provider_grubhub_20180129.png  5b27d937b3c961002c2af37c  \n",
       "26  /delivery_provider_grubhub_20180129.png  52a0d3d411d2bcc3ecda9aa6  \n",
       "42  /delivery_provider_grubhub_20180129.png  592851120ff4f9137e7da9ec  \n",
       "43  /delivery_provider_grubhub_20180129.png  49e3c071f964a520c6621fe3  \n",
       "50  /delivery_provider_grubhub_20180129.png  594d406231fd145b63bdc58b  \n",
       "51  /delivery_provider_grubhub_20180129.png  5bb30c5c67f62b00392d0a59  \n",
       "55  /delivery_provider_grubhub_20180129.png  510aad23e4b0bfb25831b9dc  \n",
       "58  /delivery_provider_grubhub_20180129.png  4bf0b8e8f45ec928072f943c  \n",
       "65  /delivery_provider_grubhub_20180129.png  4a9b0603f964a5200c3420e3  \n",
       "73  /delivery_provider_grubhub_20180129.png  5d59e62dab9ab00008480a81  "
      ]
     },
     "execution_count": 367,
     "metadata": {},
     "output_type": "execute_result"
    }
   ],
   "source": [
    "dataframe = json_normalize(items) # flatten JSON\n",
    "\n",
    "# filter columns\n",
    "filtered_columns = ['venue.name', 'venue.categories'] + [col for col in dataframe.columns if col.startswith('venue.delivery.')] + ['venue.id']\n",
    "dataframe_filtered = dataframe.loc[:, filtered_columns]\n",
    "dataframe_filtered.dropna()\n",
    "# filter the category for each row\n",
    "dataframe_filtered['venue.categories'] = dataframe_filtered.apply(get_category_type, axis=1)\n",
    "\n",
    "# clean columns\n",
    "dataframe_filtered.columns = [col.split('.')[-1] for col in dataframe_filtered.columns]\n",
    "\n",
    "dataframe_filtered.dropna()"
   ]
  },
  {
   "cell_type": "code",
   "execution_count": null,
   "metadata": {},
   "outputs": [],
   "source": []
  },
  {
   "cell_type": "code",
   "execution_count": null,
   "metadata": {},
   "outputs": [],
   "source": []
  },
  {
   "cell_type": "code",
   "execution_count": null,
   "metadata": {},
   "outputs": [],
   "source": []
  }
 ],
 "metadata": {
  "kernelspec": {
   "display_name": "Python 3",
   "language": "python",
   "name": "python3"
  },
  "language_info": {
   "codemirror_mode": {
    "name": "ipython",
    "version": 3
   },
   "file_extension": ".py",
   "mimetype": "text/x-python",
   "name": "python",
   "nbconvert_exporter": "python",
   "pygments_lexer": "ipython3",
   "version": "3.8.5"
  }
 },
 "nbformat": 4,
 "nbformat_minor": 4
}
